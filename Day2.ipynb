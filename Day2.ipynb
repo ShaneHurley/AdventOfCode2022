{
 "cells": [
  {
   "cell_type": "code",
   "execution_count": 1,
   "metadata": {},
   "outputs": [],
   "source": [
    "input = open(\"day2.txt\", \"r\")"
   ]
  },
  {
   "cell_type": "code",
   "execution_count": 6,
   "metadata": {},
   "outputs": [],
   "source": [
    "rounds = input.read().split(\"\\n\")\n",
    "rounds = list(filter(lambda x: len(x) > 0, rounds))"
   ]
  },
  {
   "cell_type": "code",
   "execution_count": 7,
   "metadata": {},
   "outputs": [],
   "source": [
    "#part1\n",
    "outcomes= {\"A X\": 4,\n",
    "           \"A Y\": 8,\n",
    "           \"A Z\": 3,\n",
    "           \"B X\": 1,\n",
    "           \"B Y\": 5,\n",
    "           \"B Z\": 9,\n",
    "           \"C X\": 7,\n",
    "           \"C Y\": 2,\n",
    "           \"C Z\": 6,}"
   ]
  },
  {
   "cell_type": "code",
   "execution_count": 8,
   "metadata": {},
   "outputs": [
    {
     "name": "stdout",
     "output_type": "stream",
     "text": [
      "14375\n"
     ]
    }
   ],
   "source": [
    "Total = 0\n",
    "for round in rounds:\n",
    "    Total+=outcomes[round]\n",
    "print(Total)"
   ]
  },
  {
   "cell_type": "code",
   "execution_count": 9,
   "metadata": {},
   "outputs": [],
   "source": [
    "#part2\n",
    "outcome2= {\"A X\": 3,\n",
    "           \"A Y\": 4,\n",
    "           \"A Z\": 8,\n",
    "           \"B X\": 1,\n",
    "           \"B Y\": 5,\n",
    "           \"B Z\": 9,\n",
    "           \"C X\": 2,\n",
    "           \"C Y\": 6,\n",
    "           \"C Z\": 7,}"
   ]
  },
  {
   "cell_type": "code",
   "execution_count": 10,
   "metadata": {},
   "outputs": [
    {
     "name": "stdout",
     "output_type": "stream",
     "text": [
      "10274\n"
     ]
    }
   ],
   "source": [
    "Total = 0\n",
    "for round in rounds:\n",
    "    Total+=outcome2[round]\n",
    "print(Total)"
   ]
  },
  {
   "cell_type": "code",
   "execution_count": null,
   "metadata": {},
   "outputs": [],
   "source": []
  }
 ],
 "metadata": {
  "kernelspec": {
   "display_name": "Python 3",
   "language": "python",
   "name": "python3"
  },
  "language_info": {
   "codemirror_mode": {
    "name": "ipython",
    "version": 3
   },
   "file_extension": ".py",
   "mimetype": "text/x-python",
   "name": "python",
   "nbconvert_exporter": "python",
   "pygments_lexer": "ipython3",
   "version": "3.10.8"
  }
 },
 "nbformat": 4,
 "nbformat_minor": 2
}
