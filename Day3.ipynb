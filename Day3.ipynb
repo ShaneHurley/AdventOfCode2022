{
 "cells": [
  {
   "cell_type": "code",
   "execution_count": 62,
   "metadata": {},
   "outputs": [],
   "source": [
    "input = open(\"day3.txt\", \"r\")"
   ]
  },
  {
   "cell_type": "code",
   "execution_count": 63,
   "metadata": {},
   "outputs": [],
   "source": [
    "sacks = input.read().split(\"\\n\")"
   ]
  },
  {
   "cell_type": "code",
   "execution_count": 80,
   "metadata": {},
   "outputs": [
    {
     "name": "stdout",
     "output_type": "stream",
     "text": [
      "38\n"
     ]
    }
   ],
   "source": [
    "l=\"L\"\n",
    "if ord(l)>90:\n",
    "    print(ord(l)-96)\n",
    "else:\n",
    "    print(ord(l)-38)"
   ]
  },
  {
   "cell_type": "code",
   "execution_count": 83,
   "metadata": {},
   "outputs": [
    {
     "name": "stdout",
     "output_type": "stream",
     "text": [
      "7967\n"
     ]
    }
   ],
   "source": [
    "total = 0\n",
    "for sack in sacks:\n",
    "    for l in sack[0:int((len(sack))/2)]:\n",
    "        if l in sack[int((len(sack))/2):len(sack)]:\n",
    "            if ord(l)>90:\n",
    "                total+=ord(l)-96\n",
    "            else:\n",
    "                total+=(ord(l)-38)\n",
    "            break\n",
    "print(total)"
   ]
  },
  {
   "cell_type": "code",
   "execution_count": 111,
   "metadata": {},
   "outputs": [
    {
     "name": "stdout",
     "output_type": "stream",
     "text": [
      "['l', 'D', 'D', 'W', 'V', 'v', 'l', 'V', 'V', 'Q', 'f', 'D', 'M', 'l', 'W', 'j', 'G', 'J', 'T', 'R', 'j', 'Q', 'C', 'g', 'T', 'G', 'L', 'C', 'L', 'j']\n",
      "ZLZpwzLBhwZhSLBsjntGCtgJRjbnJgSG\n",
      "['D', 'D', 'W', 'V', 'v', 'l', 'V', 'V', 'Q', 'f', 'D', 'M', 'l', 'W', 'j', 'G', 'J', 'T', 'R', 'j', 'Q', 'C', 'g', 'T', 'G', 'L', 'C', 'L', 'j']\n",
      "['D', 'W', 'V', 'v', 'l', 'V', 'V', 'Q', 'f', 'D', 'M', 'l', 'W', 'j', 'G', 'J', 'T', 'R', 'j', 'Q', 'C', 'g', 'T', 'G', 'L', 'C', 'L', 'j']\n",
      "['D', 'W', 'v', 'l', 'V', 'V', 'Q', 'f', 'D', 'M', 'l', 'W', 'j', 'G', 'J', 'T', 'R', 'j', 'Q', 'C', 'g', 'T', 'G', 'L', 'C', 'L', 'j']\n",
      "['D', 'W', 'v', 'V', 'V', 'Q', 'f', 'D', 'M', 'l', 'W', 'j', 'G', 'J', 'T', 'R', 'j', 'Q', 'C', 'g', 'T', 'G', 'L', 'C', 'L', 'j']\n",
      "['D', 'W', 'v', 'V', 'Q', 'f', 'D', 'M', 'l', 'W', 'j', 'G', 'J', 'T', 'R', 'j', 'Q', 'C', 'g', 'T', 'G', 'L', 'C', 'L', 'j']\n",
      "['D', 'W', 'v', 'V', 'Q', 'D', 'M', 'l', 'W', 'j', 'G', 'J', 'T', 'R', 'j', 'Q', 'C', 'g', 'T', 'G', 'L', 'C', 'L', 'j']\n",
      "['D', 'W', 'v', 'V', 'Q', 'D', 'l', 'W', 'j', 'G', 'J', 'T', 'R', 'j', 'Q', 'C', 'g', 'T', 'G', 'L', 'C', 'L', 'j']\n",
      "['D', 'v', 'V', 'Q', 'D', 'l', 'W', 'j', 'G', 'J', 'T', 'R', 'j', 'Q', 'C', 'g', 'T', 'G', 'L', 'C', 'L', 'j']\n",
      "['D', 'v', 'V', 'Q', 'D', 'l', 'W', 'j', 'G', 'J', 'T', 'R', 'j', 'Q', 'C', 'g', 'T', 'G', 'L', 'C', 'L', 'j']\n",
      "['D', 'v', 'V', 'Q', 'D', 'l', 'W', 'j', 'G', 'J', 'T', 'R', 'j', 'Q', 'C', 'g', 'T', 'G', 'L', 'C', 'L', 'j']\n",
      "['D', 'v', 'V', 'Q', 'D', 'l', 'W', 'j', 'G', 'J', 'R', 'j', 'Q', 'C', 'g', 'T', 'G', 'L', 'C', 'L', 'j']\n",
      "['D', 'v', 'V', 'Q', 'D', 'l', 'W', 'j', 'G', 'J', 'R', 'j', 'Q', 'C', 'g', 'T', 'G', 'L', 'C', 'L', 'j']\n",
      "['D', 'v', 'V', 'D', 'l', 'W', 'j', 'G', 'J', 'R', 'j', 'Q', 'C', 'g', 'T', 'G', 'L', 'C', 'L', 'j']\n",
      "['D', 'v', 'V', 'D', 'l', 'W', 'j', 'G', 'J', 'R', 'j', 'Q', 'C', 'g', 'T', 'G', 'L', 'C', 'L', 'j']\n",
      "['D', 'v', 'V', 'D', 'l', 'W', 'j', 'G', 'J', 'R', 'j', 'Q', 'C', 'g', 'G', 'L', 'C', 'L', 'j']\n",
      "['D', 'v', 'V', 'D', 'l', 'W', 'j', 'G', 'J', 'R', 'j', 'Q', 'C', 'g', 'G', 'L', 'C', 'L', 'j']\n",
      "['D', 'v', 'V', 'D', 'l', 'W', 'j', 'G', 'J', 'R', 'j', 'Q', 'C', 'g', 'G', 'L', 'C', 'L', 'j']\n",
      "['D', 'v', 'V', 'D', 'l', 'W', 'j', 'G', 'J', 'R', 'j', 'Q', 'C', 'g', 'G', 'L', 'C', 'L', 'j']\n",
      "['D', 'v', 'V', 'D', 'l', 'W', 'j', 'G', 'J', 'R', 'j', 'Q', 'C', 'g', 'G', 'L', 'C', 'L', 'j']\n",
      "qppdZzzsdsmZphrNsNwZhllDHLcVVDWFPvFWcWdFlv\n",
      "['D', 'v', 'V', 'D', 'l', 'W', 'j', 'G', 'J', 'R', 'j', 'Q', 'C', 'g', 'G', 'L', 'C', 'L', 'j']\n",
      "['D', 'v', 'V', 'D', 'l', 'W', 'j', 'G', 'J', 'R', 'j', 'Q', 'C', 'g', 'G', 'L', 'C', 'L', 'j']\n",
      "['D', 'v', 'V', 'D', 'l', 'W', 'j', 'G', 'J', 'R', 'j', 'Q', 'C', 'g', 'G', 'L', 'C', 'L', 'j']\n",
      "['D', 'v', 'V', 'D', 'l', 'W', 'j', 'G', 'J', 'R', 'j', 'Q', 'C', 'g', 'G', 'L', 'C', 'L', 'j']\n",
      "['D', 'v', 'V', 'D', 'l', 'W', 'j', 'G', 'J', 'R', 'j', 'Q', 'C', 'g', 'G', 'L', 'C', 'L', 'j']\n",
      "['D', 'v', 'V', 'D', 'l', 'W', 'j', 'G', 'J', 'R', 'j', 'Q', 'C', 'g', 'G', 'L', 'C', 'L', 'j']\n",
      "['D', 'v', 'V', 'D', 'l', 'W', 'G', 'J', 'R', 'j', 'Q', 'C', 'g', 'G', 'L', 'C', 'L', 'j']\n",
      "['D', 'v', 'V', 'D', 'l', 'W', 'G', 'R', 'j', 'Q', 'C', 'g', 'G', 'L', 'C', 'L', 'j']\n",
      "['D', 'v', 'V', 'D', 'l', 'W', 'G', 'R', 'Q', 'C', 'g', 'G', 'L', 'C', 'L', 'j']\n",
      "['D', 'v', 'V', 'D', 'l', 'W', 'G', 'R', 'Q', 'g', 'G', 'L', 'C', 'L', 'j']\n",
      "['D', 'v', 'V', 'D', 'l', 'W', 'R', 'Q', 'g', 'G', 'L', 'C', 'L', 'j']\n",
      "['D', 'v', 'V', 'D', 'l', 'W', 'R', 'Q', 'g', 'G', 'L', 'L', 'j']\n",
      "['D', 'v', 'V', 'D', 'l', 'W', 'R', 'Q', 'g', 'G', 'L', 'L']\n",
      "0\n"
     ]
    }
   ],
   "source": [
    "# part 2\n",
    "i=0\n",
    "group = []\n",
    "total = 0\n",
    "for sack in sacks:\n",
    "    if i < 3:\n",
    "        group.append(sack)\n",
    "        i+=1\n",
    "    else:\n",
    "        temp = list(str(group[0]))\n",
    "        print(temp)\n",
    "        for mem in group[1:3]:\n",
    "            print(mem)\n",
    "            temp = list(set(temp) - set(mem))\n",
    "            print(temp)\n",
    "            # for l in temp:\n",
    "            #     if l not in mem:\n",
    "            #         temp.remove(l)\n",
    "            #     print((temp))\n",
    "\n",
    "                # if len(str(temp))==1:\n",
    "                #     print(temp)\n",
    "                #     if ord(temp[0])>90:\n",
    "                #         total+=ord(temp[0])-96\n",
    "                #     else:\n",
    "                #         total+=ord(temp[0])-38\n",
    "                #     break\n",
    "        break\n",
    "        group = []\n",
    "        i=0\n",
    "print(total)"
   ]
  },
  {
   "cell_type": "code",
   "execution_count": 105,
   "metadata": {},
   "outputs": [
    {
     "data": {
      "text/plain": [
       "['lDDWVvlVVQfDMlWjGJTRjQCgTGLCLj',\n",
       " 'ZLZpwzLBhwZhSLBsjntGCtgJRjbnJgSG',\n",
       " 'qppdZzzsdsmZphrNsNwZhllDHLcVVDWFPvFWcWdFlv']"
      ]
     },
     "execution_count": 105,
     "metadata": {},
     "output_type": "execute_result"
    }
   ],
   "source": [
    "group"
   ]
  },
  {
   "cell_type": "code",
   "execution_count": null,
   "metadata": {},
   "outputs": [],
   "source": []
  }
 ],
 "metadata": {
  "kernelspec": {
   "display_name": "Python 3",
   "language": "python",
   "name": "python3"
  },
  "language_info": {
   "codemirror_mode": {
    "name": "ipython",
    "version": 3
   },
   "file_extension": ".py",
   "mimetype": "text/x-python",
   "name": "python",
   "nbconvert_exporter": "python",
   "pygments_lexer": "ipython3",
   "version": "3.10.8"
  }
 },
 "nbformat": 4,
 "nbformat_minor": 2
}
