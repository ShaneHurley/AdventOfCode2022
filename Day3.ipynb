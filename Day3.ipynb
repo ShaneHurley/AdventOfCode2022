{
 "cells": [
  {
   "cell_type": "code",
   "execution_count": 123,
   "metadata": {},
   "outputs": [],
   "source": [
    "input = open(\"day3.txt\", \"r\")"
   ]
  },
  {
   "cell_type": "code",
   "execution_count": 124,
   "metadata": {},
   "outputs": [],
   "source": [
    "sacks = input.read().split(\"\\n\")"
   ]
  },
  {
   "cell_type": "code",
   "execution_count": 126,
   "metadata": {},
   "outputs": [
    {
     "name": "stdout",
     "output_type": "stream",
     "text": [
      "7967\n"
     ]
    }
   ],
   "source": [
    "total = 0\n",
    "for sack in sacks:\n",
    "    for l in sack[0:int((len(sack))/2)]:\n",
    "        if l in sack[int((len(sack))/2):len(sack)]:\n",
    "            if ord(l)>90:\n",
    "                total+=ord(l)-96\n",
    "            else:\n",
    "                total+=(ord(l)-38)\n",
    "            break\n",
    "print(total)"
   ]
  },
  {
   "cell_type": "code",
   "execution_count": 167,
   "metadata": {},
   "outputs": [
    {
     "name": "stdout",
     "output_type": "stream",
     "text": [
      "2716\n"
     ]
    }
   ],
   "source": [
    "# part 2\n",
    "i=0\n",
    "group = []\n",
    "total = 0\n",
    "for first, second, third in zip(*(map(str.strip, sacks),) * 3):\n",
    "    temp = set(first).intersection(second,third).pop()\n",
    "    if ord(temp)>90:\n",
    "        total+=ord(temp)-96\n",
    "    else:\n",
    "        total+=ord(temp)-38\n",
    "print(total)"
   ]
  },
  {
   "cell_type": "code",
   "execution_count": null,
   "metadata": {},
   "outputs": [],
   "source": []
  }
 ],
 "metadata": {
  "kernelspec": {
   "display_name": "Python 3",
   "language": "python",
   "name": "python3"
  },
  "language_info": {
   "codemirror_mode": {
    "name": "ipython",
    "version": 3
   },
   "file_extension": ".py",
   "mimetype": "text/x-python",
   "name": "python",
   "nbconvert_exporter": "python",
   "pygments_lexer": "ipython3",
   "version": "3.10.8"
  }
 },
 "nbformat": 4,
 "nbformat_minor": 2
}
